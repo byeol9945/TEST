{
 "cells": [
  {
   "cell_type": "code",
   "execution_count": 1,
   "id": "annual-collapse",
   "metadata": {},
   "outputs": [],
   "source": [
    "import pandas as pd\n",
    "import numpy as np\n",
    "from matplotlib import pyplot as plt\n",
    "import seaborn as sns "
   ]
  },
  {
   "cell_type": "code",
   "execution_count": 2,
   "id": "secret-exclusion",
   "metadata": {},
   "outputs": [],
   "source": [
    "tips=sns.load_dataset('tips')\n",
    "df=sns.load_dataset('titanic')"
   ]
  },
  {
   "cell_type": "code",
   "execution_count": 3,
   "id": "coral-observation",
   "metadata": {},
   "outputs": [
    {
     "data": {
      "text/html": [
       "<div>\n",
       "<style scoped>\n",
       "    .dataframe tbody tr th:only-of-type {\n",
       "        vertical-align: middle;\n",
       "    }\n",
       "\n",
       "    .dataframe tbody tr th {\n",
       "        vertical-align: top;\n",
       "    }\n",
       "\n",
       "    .dataframe thead th {\n",
       "        text-align: right;\n",
       "    }\n",
       "</style>\n",
       "<table border=\"1\" class=\"dataframe\">\n",
       "  <thead>\n",
       "    <tr style=\"text-align: right;\">\n",
       "      <th></th>\n",
       "      <th>survived</th>\n",
       "      <th>pclass</th>\n",
       "      <th>sex</th>\n",
       "      <th>age</th>\n",
       "      <th>sibsp</th>\n",
       "      <th>parch</th>\n",
       "      <th>fare</th>\n",
       "      <th>embarked</th>\n",
       "      <th>class</th>\n",
       "      <th>who</th>\n",
       "      <th>adult_male</th>\n",
       "      <th>deck</th>\n",
       "      <th>embark_town</th>\n",
       "      <th>alive</th>\n",
       "      <th>alone</th>\n",
       "    </tr>\n",
       "  </thead>\n",
       "  <tbody>\n",
       "    <tr>\n",
       "      <th>0</th>\n",
       "      <td>0</td>\n",
       "      <td>3</td>\n",
       "      <td>male</td>\n",
       "      <td>22.0</td>\n",
       "      <td>1</td>\n",
       "      <td>0</td>\n",
       "      <td>7.25</td>\n",
       "      <td>S</td>\n",
       "      <td>Third</td>\n",
       "      <td>man</td>\n",
       "      <td>True</td>\n",
       "      <td>NaN</td>\n",
       "      <td>Southampton</td>\n",
       "      <td>no</td>\n",
       "      <td>False</td>\n",
       "    </tr>\n",
       "  </tbody>\n",
       "</table>\n",
       "</div>"
      ],
      "text/plain": [
       "   survived  pclass   sex   age  sibsp  parch  fare embarked  class  who  \\\n",
       "0         0       3  male  22.0      1      0  7.25        S  Third  man   \n",
       "\n",
       "   adult_male deck  embark_town alive  alone  \n",
       "0        True  NaN  Southampton    no  False  "
      ]
     },
     "execution_count": 3,
     "metadata": {},
     "output_type": "execute_result"
    }
   ],
   "source": [
    "df.head(1)"
   ]
  },
  {
   "cell_type": "code",
   "execution_count": 4,
   "id": "acceptable-matter",
   "metadata": {},
   "outputs": [
    {
     "data": {
      "text/plain": [
       "Text(0.5, 1.0, 'Bar 그래프')"
      ]
     },
     "execution_count": 4,
     "metadata": {},
     "output_type": "execute_result"
    },
    {
     "data": {
      "image/png": "[encoded data removed]",
      "text/plain": [
       "<Figure size 432x288 with 1 Axes>"
      ]
     },
     "metadata": {
      "needs_background": "light"
     },
     "output_type": "display_data"
    }
   ],
   "source": [
    "sns.barplot(data=df, x='pclass', y='survived', hue='sex')\n",
    "plt.title('Bar 그래프')\n",
    "\n",
    "# 평균이 아니라 합계를 구하려면??"
   ]
  },
  {
   "cell_type": "code",
   "execution_count": null,
   "id": "specified-banner",
   "metadata": {},
   "outputs": [
    {
     "data": {
      "text/plain": [
       "<AxesSubplot:xlabel='pclass', ylabel='survived'>"
      ]
     },
     "execution_count": 5,
     "metadata": {},
     "output_type": "execute_result"
    }
   ],
   "source": [
    "sns.lineplot(data=df, x='pclass', y='survived')"
   ]
  },
  {
   "cell_type": "code",
   "execution_count": null,
   "id": "respiratory-controversy",
   "metadata": {},
   "outputs": [],
   "source": [
    "sns.scatterplot(data=df, x='age', y='fare')"
   ]
  },
  {
   "cell_type": "code",
   "execution_count": null,
   "id": "tender-annotation",
   "metadata": {},
   "outputs": [],
   "source": [
    "sns.lmplot(data=df, x='age', y='fare', height=4)"
   ]
  },
  {
   "cell_type": "code",
   "execution_count": null,
   "id": "nuclear-separate",
   "metadata": {},
   "outputs": [],
   "source": [
    "sns.catplot(data=tips, x='smoker', y='tip', hue='day', kind='bar', palette='BuGn')"
   ]
  },
  {
   "cell_type": "code",
   "execution_count": null,
   "id": "optical-reynolds",
   "metadata": {},
   "outputs": [],
   "source": [
    "sns.catplot(data=tips, x='size', y='tip', hue='smoker',col='day', col_wrap=2, kind='bar', palette='BuGn', height=3)"
   ]
  },
  {
   "cell_type": "code",
   "execution_count": null,
   "id": "weekly-remains",
   "metadata": {},
   "outputs": [],
   "source": [
    "sns.violinplot(data=tips, x='day', y='total_bill', hue='smoker', split=True, palette='coolwarm')"
   ]
  },
  {
   "cell_type": "code",
   "execution_count": null,
   "id": "detected-plymouth",
   "metadata": {},
   "outputs": [],
   "source": [
    "sns.barplot(data=df, x='pclass', y='survived', hue='sex')"
   ]
  },
  {
   "cell_type": "code",
   "execution_count": null,
   "id": "eight-format",
   "metadata": {},
   "outputs": [],
   "source": [
    "sns.distplot(x=df['fare'], kde=True, hist=True)"
   ]
  },
  {
   "cell_type": "code",
   "execution_count": null,
   "id": "noticed-honey",
   "metadata": {},
   "outputs": [],
   "source": [
    "sns.boxplot(data=tips,x='smoker', y='tip', hue='day', palette='RdGy')"
   ]
  },
  {
   "cell_type": "code",
   "execution_count": null,
   "id": "constitutional-likelihood",
   "metadata": {},
   "outputs": [],
   "source": [
    "from sklearn.datasets import load_iris\n",
    "\n",
    "iris = load_iris()\n",
    "\n",
    "x = iris['data']\n",
    "y = iris['target']\n",
    "\n",
    "plt.figure(figsize=(10,5))\n",
    "\n",
    "plt.subplots_adjust(hspace=0.5, wspace=0.2)\n",
    "\n",
    "plt.subplot(2,2,3)\n",
    "plt.scatter(x=x[:,0], y=y)\n",
    "plt.title('2,2,3', fontsize=20)\n",
    "\n",
    "plt.subplot(2,2,1)\n",
    "plt.scatter(x=x[:,0], y=y)\n",
    "plt.title('2,2,1', fontsize=20)\n",
    "\n",
    "plt.subplot(1,2,2)\n",
    "plt.scatter(x=x[:,0], y=y)\n",
    "plt.title('1,2,2', fontsize=20)"
   ]
  }
 ],
 "metadata": {
  "kernelspec": {
   "display_name": "Python 3",
   "language": "python",
   "name": "python3"
  },
  "language_info": {
   "codemirror_mode": {
    "name": "ipython",
    "version": 3
   },
   "file_extension": ".py",
   "mimetype": "text/x-python",
   "name": "python",
   "nbconvert_exporter": "python",
   "pygments_lexer": "ipython3",
   "version": "3.8.7"
  }
 },
 "nbformat": 4,
 "nbformat_minor": 5
}
