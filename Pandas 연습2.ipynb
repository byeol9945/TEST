{
 "cells": [
  {
   "cell_type": "code",
   "execution_count": 91,
   "id": "further-marina",
   "metadata": {},
   "outputs": [],
   "source": [
    "import pandas as pd"
   ]
  },
  {
   "cell_type": "code",
   "execution_count": 92,
   "id": "aging-address",
   "metadata": {},
   "outputs": [],
   "source": [
    "df=pd.read_csv(r'C:\\Users\\byeol\\Desktop\\머신 러닝\\test2\\country_vaccinations.csv')"
   ]
  },
  {
   "cell_type": "code",
   "execution_count": 119,
   "id": "supreme-possession",
   "metadata": {},
   "outputs": [
    {
     "data": {
      "text/html": [
       "<div>\n",
       "<style scoped>\n",
       "    .dataframe tbody tr th:only-of-type {\n",
       "        vertical-align: middle;\n",
       "    }\n",
       "\n",
       "    .dataframe tbody tr th {\n",
       "        vertical-align: top;\n",
       "    }\n",
       "\n",
       "    .dataframe thead th {\n",
       "        text-align: right;\n",
       "    }\n",
       "</style>\n",
       "<table border=\"1\" class=\"dataframe\">\n",
       "  <thead>\n",
       "    <tr style=\"text-align: right;\">\n",
       "      <th></th>\n",
       "      <th>country</th>\n",
       "      <th>iso_code</th>\n",
       "      <th>date</th>\n",
       "      <th>total_vaccinations</th>\n",
       "      <th>people_vaccinated</th>\n",
       "      <th>people_fully_vaccinated</th>\n",
       "      <th>daily_vaccinations_raw</th>\n",
       "      <th>daily_vaccinations</th>\n",
       "      <th>total_vaccinations_per_hundred</th>\n",
       "      <th>people_vaccinated_per_hundred</th>\n",
       "      <th>people_fully_vaccinated_per_hundred</th>\n",
       "      <th>daily_vaccinations_per_million</th>\n",
       "      <th>vaccines</th>\n",
       "      <th>source_name</th>\n",
       "      <th>source_website</th>\n",
       "    </tr>\n",
       "  </thead>\n",
       "  <tbody>\n",
       "    <tr>\n",
       "      <th>0</th>\n",
       "      <td>Algeria</td>\n",
       "      <td>DZA</td>\n",
       "      <td>2021-01-29</td>\n",
       "      <td>0.0</td>\n",
       "      <td>NaN</td>\n",
       "      <td>NaN</td>\n",
       "      <td>NaN</td>\n",
       "      <td>NaN</td>\n",
       "      <td>0.00</td>\n",
       "      <td>NaN</td>\n",
       "      <td>NaN</td>\n",
       "      <td>NaN</td>\n",
       "      <td>Sputnik V</td>\n",
       "      <td>Ministry of Health</td>\n",
       "      <td>https://www.aps.dz/regions/116777-blida-covid-...</td>\n",
       "    </tr>\n",
       "    <tr>\n",
       "      <th>1</th>\n",
       "      <td>Algeria</td>\n",
       "      <td>DZA</td>\n",
       "      <td>2021-01-30</td>\n",
       "      <td>30.0</td>\n",
       "      <td>NaN</td>\n",
       "      <td>NaN</td>\n",
       "      <td>30.0</td>\n",
       "      <td>30.0</td>\n",
       "      <td>0.00</td>\n",
       "      <td>NaN</td>\n",
       "      <td>NaN</td>\n",
       "      <td>1.0</td>\n",
       "      <td>Sputnik V</td>\n",
       "      <td>Ministry of Health</td>\n",
       "      <td>https://www.aps.dz/regions/116777-blida-covid-...</td>\n",
       "    </tr>\n",
       "    <tr>\n",
       "      <th>2</th>\n",
       "      <td>Andorra</td>\n",
       "      <td>AND</td>\n",
       "      <td>2021-01-25</td>\n",
       "      <td>576.0</td>\n",
       "      <td>576.0</td>\n",
       "      <td>NaN</td>\n",
       "      <td>NaN</td>\n",
       "      <td>NaN</td>\n",
       "      <td>0.75</td>\n",
       "      <td>0.75</td>\n",
       "      <td>NaN</td>\n",
       "      <td>NaN</td>\n",
       "      <td>Pfizer/BioNTech</td>\n",
       "      <td>Government of Andorra</td>\n",
       "      <td>https://www.govern.ad/comunicats/item/12379-se...</td>\n",
       "    </tr>\n",
       "    <tr>\n",
       "      <th>3</th>\n",
       "      <td>Andorra</td>\n",
       "      <td>AND</td>\n",
       "      <td>2021-01-26</td>\n",
       "      <td>NaN</td>\n",
       "      <td>NaN</td>\n",
       "      <td>NaN</td>\n",
       "      <td>NaN</td>\n",
       "      <td>66.0</td>\n",
       "      <td>NaN</td>\n",
       "      <td>NaN</td>\n",
       "      <td>NaN</td>\n",
       "      <td>854.0</td>\n",
       "      <td>Pfizer/BioNTech</td>\n",
       "      <td>Government of Andorra</td>\n",
       "      <td>https://www.govern.ad/comunicats/item/12379-se...</td>\n",
       "    </tr>\n",
       "    <tr>\n",
       "      <th>4</th>\n",
       "      <td>Andorra</td>\n",
       "      <td>AND</td>\n",
       "      <td>2021-01-27</td>\n",
       "      <td>NaN</td>\n",
       "      <td>NaN</td>\n",
       "      <td>NaN</td>\n",
       "      <td>NaN</td>\n",
       "      <td>66.0</td>\n",
       "      <td>NaN</td>\n",
       "      <td>NaN</td>\n",
       "      <td>NaN</td>\n",
       "      <td>854.0</td>\n",
       "      <td>Pfizer/BioNTech</td>\n",
       "      <td>Government of Andorra</td>\n",
       "      <td>https://www.govern.ad/comunicats/item/12379-se...</td>\n",
       "    </tr>\n",
       "  </tbody>\n",
       "</table>\n",
       "</div>"
      ],
      "text/plain": [
       "   country iso_code       date  total_vaccinations  people_vaccinated  \\\n",
       "0  Algeria      DZA 2021-01-29                 0.0                NaN   \n",
       "1  Algeria      DZA 2021-01-30                30.0                NaN   \n",
       "2  Andorra      AND 2021-01-25               576.0              576.0   \n",
       "3  Andorra      AND 2021-01-26                 NaN                NaN   \n",
       "4  Andorra      AND 2021-01-27                 NaN                NaN   \n",
       "\n",
       "   people_fully_vaccinated  daily_vaccinations_raw  daily_vaccinations  \\\n",
       "0                      NaN                     NaN                 NaN   \n",
       "1                      NaN                    30.0                30.0   \n",
       "2                      NaN                     NaN                 NaN   \n",
       "3                      NaN                     NaN                66.0   \n",
       "4                      NaN                     NaN                66.0   \n",
       "\n",
       "   total_vaccinations_per_hundred  people_vaccinated_per_hundred  \\\n",
       "0                            0.00                            NaN   \n",
       "1                            0.00                            NaN   \n",
       "2                            0.75                           0.75   \n",
       "3                             NaN                            NaN   \n",
       "4                             NaN                            NaN   \n",
       "\n",
       "   people_fully_vaccinated_per_hundred  daily_vaccinations_per_million  \\\n",
       "0                                  NaN                             NaN   \n",
       "1                                  NaN                             1.0   \n",
       "2                                  NaN                             NaN   \n",
       "3                                  NaN                           854.0   \n",
       "4                                  NaN                           854.0   \n",
       "\n",
       "          vaccines            source_name  \\\n",
       "0        Sputnik V     Ministry of Health   \n",
       "1        Sputnik V     Ministry of Health   \n",
       "2  Pfizer/BioNTech  Government of Andorra   \n",
       "3  Pfizer/BioNTech  Government of Andorra   \n",
       "4  Pfizer/BioNTech  Government of Andorra   \n",
       "\n",
       "                                      source_website  \n",
       "0  https://www.aps.dz/regions/116777-blida-covid-...  \n",
       "1  https://www.aps.dz/regions/116777-blida-covid-...  \n",
       "2  https://www.govern.ad/comunicats/item/12379-se...  \n",
       "3  https://www.govern.ad/comunicats/item/12379-se...  \n",
       "4  https://www.govern.ad/comunicats/item/12379-se...  "
      ]
     },
     "execution_count": 119,
     "metadata": {},
     "output_type": "execute_result"
    }
   ],
   "source": [
    "df.head()"
   ]
  },
  {
   "cell_type": "code",
   "execution_count": 94,
   "id": "ruled-oregon",
   "metadata": {},
   "outputs": [
    {
     "data": {
      "text/plain": [
       "country                                 object\n",
       "iso_code                                object\n",
       "date                                    object\n",
       "total_vaccinations                     float64\n",
       "people_vaccinated                      float64\n",
       "people_fully_vaccinated                float64\n",
       "daily_vaccinations_raw                 float64\n",
       "daily_vaccinations                     float64\n",
       "total_vaccinations_per_hundred         float64\n",
       "people_vaccinated_per_hundred          float64\n",
       "people_fully_vaccinated_per_hundred    float64\n",
       "daily_vaccinations_per_million         float64\n",
       "vaccines                                object\n",
       "source_name                             object\n",
       "source_website                          object\n",
       "dtype: object"
      ]
     },
     "execution_count": 94,
     "metadata": {},
     "output_type": "execute_result"
    }
   ],
   "source": [
    "df.dtypes"
   ]
  },
  {
   "cell_type": "code",
   "execution_count": 100,
   "id": "refined-overview",
   "metadata": {},
   "outputs": [],
   "source": [
    "df['date'] = pd.to_datetime(df['date'])  #DataFranme 변경 사항은 항상 재대입 또는 inplace 사용"
   ]
  },
  {
   "cell_type": "code",
   "execution_count": 101,
   "id": "latest-discovery",
   "metadata": {},
   "outputs": [
    {
     "data": {
      "text/plain": [
       "country                                        object\n",
       "iso_code                                       object\n",
       "date                                   datetime64[ns]\n",
       "total_vaccinations                            float64\n",
       "people_vaccinated                             float64\n",
       "people_fully_vaccinated                       float64\n",
       "daily_vaccinations_raw                        float64\n",
       "daily_vaccinations                            float64\n",
       "total_vaccinations_per_hundred                float64\n",
       "people_vaccinated_per_hundred                 float64\n",
       "people_fully_vaccinated_per_hundred           float64\n",
       "daily_vaccinations_per_million                float64\n",
       "vaccines                                       object\n",
       "source_name                                    object\n",
       "source_website                                 object\n",
       "dtype: object"
      ]
     },
     "execution_count": 101,
     "metadata": {},
     "output_type": "execute_result"
    }
   ],
   "source": [
    "df.dtypes"
   ]
  },
  {
   "cell_type": "raw",
   "id": "weird-pittsburgh",
   "metadata": {},
   "source": [
    "df['date'].dt.year\n",
    "df['date'].dt.month\n",
    "df['date'].dt.day\n",
    "df['date'].dt.week\n",
    "\n",
    "df['date'].dt.day_name()  #괄호() 붙이기\n",
    "                          #월화수목금토일 문자 형식으로 보여줌\n",
    "\n",
    "df['date'].dt.dayofweek   # 월요일: 0 ~ 일요일 : 6 => 숫자 형식을 보여줌\n",
    "df['date'].dt.weekday     # dayofweek == weekday\n",
    "\n",
    "df['date'].dt.dayofyear   # 365일 형식으로 보여줌\n",
    "df['date'].dt.weekofyeat  # 업데이트 : df['date'].dt.isocalendar().week\n",
    "\n",
    "df['date'].dt.quarter     #분기\n",
    "\n",
    "pd.datetime.now()  # 현재 시간"
   ]
  },
  {
   "cell_type": "code",
   "execution_count": 124,
   "id": "military-brand",
   "metadata": {},
   "outputs": [
    {
     "data": {
      "text/plain": [
       "0          Friday\n",
       "1        Saturday\n",
       "2          Monday\n",
       "3         Tuesday\n",
       "4       Wednesday\n",
       "          ...    \n",
       "2550    Wednesday\n",
       "2551     Thursday\n",
       "2552       Friday\n",
       "2553     Saturday\n",
       "2554       Sunday\n",
       "Name: date, Length: 2555, dtype: object"
      ]
     },
     "execution_count": 124,
     "metadata": {},
     "output_type": "execute_result"
    }
   ],
   "source": [
    "df['date'].dt.day_name()"
   ]
  },
  {
   "cell_type": "code",
   "execution_count": null,
   "id": "biological-passport",
   "metadata": {},
   "outputs": [],
   "source": []
  }
 ],
 "metadata": {
  "kernelspec": {
   "display_name": "Python 3",
   "language": "python",
   "name": "python3"
  },
  "language_info": {
   "codemirror_mode": {
    "name": "ipython",
    "version": 3
   },
   "file_extension": ".py",
   "mimetype": "text/x-python",
   "name": "python",
   "nbconvert_exporter": "python",
   "pygments_lexer": "ipython3",
   "version": "3.8.7"
  }
 },
 "nbformat": 4,
 "nbformat_minor": 5
}
